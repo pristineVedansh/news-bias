{
 "cells": [
  {
   "cell_type": "code",
   "execution_count": 7,
   "metadata": {},
   "outputs": [],
   "source": [
    "from nltk.corpus import stopwords\n",
    "from os import listdir\n",
    "from collections import Counter\n",
    "from numpy import array\n",
    "import numpy as np\n",
    "import string\n",
    "import re"
   ]
  },
  {
   "cell_type": "code",
   "execution_count": 9,
   "metadata": {},
   "outputs": [],
   "source": [
    "# loading files\n",
    "def load_file(filename):\n",
    "    file = open(filename, encoding=\"utf8\")\n",
    "    content = file.read()\n",
    "    file.close()\n",
    "    return content"
   ]
  },
  {
   "cell_type": "code",
   "execution_count": 10,
   "metadata": {},
   "outputs": [],
   "source": [
    "# clean file\n",
    "def clean_file(file):\n",
    "    # splitting into tokens\n",
    "    tokens = file.split()\n",
    "    # filter character\n",
    "    punc = re.compile('[%s]'% re.escape(string.punctuation))\n",
    "    # remove punctuation\n",
    "    tokens = [punc.sub(' ', w) for w in tokens]\n",
    "    # remove non-alphabetic tokens\n",
    "    tokens = [word for word in tokens if word.isalpha()]\n",
    "    # filter stop words\n",
    "    stop_words = set(stopwords.words('english'))\n",
    "    tokens = [w for w in tokens if not w in stop_words]\n",
    "    # filter other\n",
    "    tokens = [word for word in tokens if len(word) > 1]\n",
    "    return tokens"
   ]
  },
  {
   "cell_type": "code",
   "execution_count": 11,
   "metadata": {
    "scrolled": true
   },
   "outputs": [
    {
     "name": "stdout",
     "output_type": "stream",
     "text": [
      "Printing Sample tokens:  ['Police', 'US', 'state', 'New', 'Mexico', 'rescued', 'malnourished', 'children', 'kept', 'squalid', 'conditions', 'remote', 'desert', 'The', 'local', 'office', 'said', 'aged', 'wearing', 'rags', 'like', 'Third', 'World', 'Five', 'adults', 'found', 'including', 'two', 'heavily', 'armed', 'Police', 'searched', 'site', 'receiving', 'message', 'starving', 'need', 'food', 'It', 'clear', 'group', 'ended', 'compound', 'Police', 'described', 'compound', 'small', 'underground', 'trailer', 'covered', 'running', 'water', 'Taos', 'County', 'Sheriff', 'Jerry', 'Hogrefe', 'told', 'ABC', 'News', 'children', 'thirsty', 'cop', 'never', 'seen', 'anything', 'like', 'ribs', 'poor', 'hygiene', 'No', 'fresh', 'water', 'found', 'food', 'potatoes', 'box', 'police', 'Two', 'armed', 'Siraj', 'Wahhaj', 'Lucas', 'arrested', 'The', 'three', 'women', 'also', 'detained', 'later', 'Mr', 'Hogrefe', 'told', 'ABC', 'appeared', 'women', 'children', 'brainwashed', 'feel', 'great', 'intimidation', 'men', 'control', 'The', 'children', 'taken', 'care', 'local', 'social', 'Mr', 'Wahhaj', 'also', 'wanted', 'suspicion', 'abducting', 'boy', 'among', 'group', 'found', 'US', 'media']\n"
     ]
    }
   ],
   "source": [
    "# example on one file how the file is being cleaned\n",
    "filename = 'data/train/centre/BBC--2018-08-05--US police find 11 starving children in New Mexico compound'\n",
    "text = load_file(filename)\n",
    "tokens = clean_file(text)\n",
    "print(\"Printing Sample tokens: \", tokens)"
   ]
  },
  {
   "cell_type": "code",
   "execution_count": 12,
   "metadata": {},
   "outputs": [],
   "source": [
    "# add file to vocab\n",
    "def add_file_to_vocab(filename, vocab):\n",
    "    file = load_file(filename)\n",
    "    tokens = clean_file(file)\n",
    "    vocab.update(tokens)"
   ]
  },
  {
   "cell_type": "code",
   "execution_count": 13,
   "metadata": {},
   "outputs": [],
   "source": [
    "# load all file from a folder\n",
    "def process_files(folder, vocab):\n",
    "    for filename in listdir(folder):\n",
    "        path = folder + '/' + filename\n",
    "        add_file_to_vocab(path, vocab)"
   ]
  },
  {
   "cell_type": "code",
   "execution_count": 14,
   "metadata": {},
   "outputs": [],
   "source": [
    "# save list\n",
    "def save_list(lines, filename):\n",
    "    # convert line to text\n",
    "    data = '\\n'.join(lines)\n",
    "    file = open(filename, 'w', encoding=\"utf-8\")\n",
    "    file.write(data)\n",
    "    file.close()"
   ]
  },
  {
   "cell_type": "code",
   "execution_count": 15,
   "metadata": {},
   "outputs": [
    {
     "data": {
      "text/plain": [
       "\"\\nvocab = Counter()\\nprocess_files('data-neta-glt/centre', vocab)\\nprocess_files('data-neta-glt/left', vocab)\\nprocess_files('data-neta-glt/right', vocab)\\nprocess_files('data-neta-glt/leanleft', vocab)\\nprocess_files('data-neta-glt/leanright', vocab)\\nprint(len(vocab))\\nmin_occurence = 2\\ntokens = [k for k,c in vocab.items() if c >= min_occurence]\\nprint(len(tokens))\\nsave_list(tokens, 'vocab2.txt')\\n\""
      ]
     },
     "execution_count": 15,
     "metadata": {},
     "output_type": "execute_result"
    }
   ],
   "source": [
    "# saving tokens to a vocabulary files\n",
    "\"\"\"\n",
    "vocab = Counter()\n",
    "process_files('data-neta-glt/centre', vocab)\n",
    "process_files('data-neta-glt/left', vocab)\n",
    "process_files('data-neta-glt/right', vocab)\n",
    "process_files('data-neta-glt/leanleft', vocab)\n",
    "process_files('data-neta-glt/leanright', vocab)\n",
    "print(len(vocab))\n",
    "min_occurence = 2\n",
    "tokens = [k for k,c in vocab.items() if c >= min_occurence]\n",
    "print(len(tokens))\n",
    "save_list(tokens, 'vocab2.txt')\n",
    "\"\"\""
   ]
  },
  {
   "cell_type": "code",
   "execution_count": 16,
   "metadata": {
    "scrolled": true
   },
   "outputs": [
    {
     "name": "stdout",
     "output_type": "stream",
     "text": [
      "['Police', 'US', 'state', 'New', 'Mexico', 'rescued', 'malnourished', 'children', 'kept', 'squalid']\n"
     ]
    }
   ],
   "source": [
    "print(tokens[:10])"
   ]
  },
  {
   "cell_type": "markdown",
   "metadata": {},
   "source": [
    "The tokens of the vocabulary are created on the basis of minimum occurence. If any word occurs in all the articles at least two times, then the word is added in the list of tokens."
   ]
  },
  {
   "cell_type": "code",
   "execution_count": 6,
   "metadata": {},
   "outputs": [
    {
     "ename": "NameError",
     "evalue": "name 'load_file' is not defined",
     "output_type": "error",
     "traceback": [
      "\u001b[1;31m---------------------------------------------------------------------------\u001b[0m",
      "\u001b[1;31mNameError\u001b[0m                                 Traceback (most recent call last)",
      "\u001b[1;32m<ipython-input-6-e36ecdd9b407>\u001b[0m in \u001b[0;36m<module>\u001b[1;34m\u001b[0m\n\u001b[0;32m      1\u001b[0m \u001b[1;31m# load tokens\u001b[0m\u001b[1;33m\u001b[0m\u001b[1;33m\u001b[0m\u001b[1;33m\u001b[0m\u001b[0m\n\u001b[1;32m----> 2\u001b[1;33m \u001b[0mvocab\u001b[0m \u001b[1;33m=\u001b[0m \u001b[0mload_file\u001b[0m\u001b[1;33m(\u001b[0m\u001b[1;34m'vocab2.txt'\u001b[0m\u001b[1;33m)\u001b[0m\u001b[1;33m\u001b[0m\u001b[1;33m\u001b[0m\u001b[0m\n\u001b[0m\u001b[0;32m      3\u001b[0m \u001b[0mvocab\u001b[0m \u001b[1;33m=\u001b[0m \u001b[0mset\u001b[0m\u001b[1;33m(\u001b[0m\u001b[0mvocab\u001b[0m\u001b[1;33m.\u001b[0m\u001b[0msplit\u001b[0m\u001b[1;33m(\u001b[0m\u001b[1;33m)\u001b[0m\u001b[1;33m)\u001b[0m\u001b[1;33m\u001b[0m\u001b[1;33m\u001b[0m\u001b[0m\n",
      "\u001b[1;31mNameError\u001b[0m: name 'load_file' is not defined"
     ]
    }
   ],
   "source": [
    "# load tokens\n",
    "vocab = load_file('vocab2.txt')\n",
    "vocab = set(vocab.split())"
   ]
  },
  {
   "cell_type": "code",
   "execution_count": 18,
   "metadata": {},
   "outputs": [],
   "source": [
    "# this cleaning involves filtering out\n",
    "# all the tokens not in the vocabulary\n",
    "def clean_file_vocab(file, vocab):\n",
    "    tokens = file.split()\n",
    "    punc = re.compile('[%s]' %re.escape(string.punctuation))\n",
    "    tokens = [punc.sub('', w) for w in tokens]\n",
    "    tokens = [w for w in tokens if w in vocab]\n",
    "    tokens = ' '.join(tokens)\n",
    "    return tokens"
   ]
  },
  {
   "cell_type": "code",
   "execution_count": 19,
   "metadata": {},
   "outputs": [],
   "source": [
    "def process_files_vocab(folder, vocab):\n",
    "    documents = list()\n",
    "    for filename in listdir(folder):\n",
    "        path = folder + '/' + filename\n",
    "        file = load_file(path)\n",
    "        tokens = clean_file_vocab(file, vocab)\n",
    "        documents.append(tokens)\n",
    "    return documents"
   ]
  },
  {
   "cell_type": "markdown",
   "metadata": {},
   "source": [
    "$\\text{We manually create a vector of all the categories and create a vector with values 1 and 0. So, the vector of categories will be [left, leanleft, centre, leanright, right]. If we want to label a class left, then we'll write it as [1, 0, 0, 0, 0].}$"
   ]
  },
  {
   "cell_type": "code",
   "execution_count": 20,
   "metadata": {},
   "outputs": [],
   "source": [
    "# load and clean dataset for training\n",
    "def clean_dataset(vocab, left_data, leanleft_data, centre_data, leanright_data, right_data):\n",
    "    # load files\n",
    "    left = process_files_vocab(left_data, vocab)\n",
    "    leanleft = process_files_vocab(leanleft_data, vocab)\n",
    "    centre = process_files_vocab(centre_data, vocab)\n",
    "    leanright = process_files_vocab(leanright_data, vocab)\n",
    "    right = process_files_vocab(right_data, vocab)\n",
    "    \n",
    "    files = left + leanleft + centre + leanright + right\n",
    "    # labelling dataset\n",
    "    # taken help from here: https://nlp.stanford.edu/IR-book/html/htmledition/classification-with-more-than-two-classes-1.html\n",
    "    \n",
    "    labels = array([[1, 0, 0, 0, 0] for _ in range(len(left))] + [[0, 1, 0, 0, 0] for _ in range(len(leanleft))] \n",
    "                   + [[0, 0, 1, 0, 0] for _ in range(len(centre))] + [[0, 0, 0, 1, 0] for _ in range(len(leanright))]\n",
    "                   + [[0, 0, 0, 0, 1] for _ in range(len(right))])\n",
    "    return files, labels"
   ]
  },
  {
   "cell_type": "code",
   "execution_count": 2,
   "metadata": {},
   "outputs": [
    {
     "name": "stderr",
     "output_type": "stream",
     "text": [
      "Using TensorFlow backend.\n"
     ]
    }
   ],
   "source": [
    "# necessary modules to tokenize the text\n",
    "from keras.preprocessing.text import Tokenizer\n",
    "from keras.preprocessing.sequence import pad_sequences"
   ]
  },
  {
   "cell_type": "code",
   "execution_count": 3,
   "metadata": {},
   "outputs": [],
   "source": [
    "# fitting tokenizer on texts\n",
    "def new_tokenizer(lines):\n",
    "    tokenizer = Tokenizer()\n",
    "    tokenizer.fit_on_texts(lines)\n",
    "    return tokenizer"
   ]
  },
  {
   "cell_type": "code",
   "execution_count": 4,
   "metadata": {},
   "outputs": [],
   "source": [
    "# encode documents as integer and pad documents\n",
    "def encode_and_pad(tokenizer, max_length, files):\n",
    "    # encoding\n",
    "    encoded = tokenizer.texts_to_sequences(files)\n",
    "    # padding\n",
    "    padded = pad_sequences(encoded, maxlen=max_length, padding='post')\n",
    "    return padded"
   ]
  },
  {
   "cell_type": "markdown",
   "metadata": {},
   "source": [
    "The data is splitted using a library called split-folders"
   ]
  },
  {
   "cell_type": "code",
   "execution_count": 24,
   "metadata": {},
   "outputs": [],
   "source": [
    "train_files, ytrain = clean_dataset(vocab, 'data/train/left', 'data/train/leanleft', \n",
    "                                    'data/train/centre', 'data/train/leanright', 'data/train/right')"
   ]
  },
  {
   "cell_type": "code",
   "execution_count": 25,
   "metadata": {},
   "outputs": [
    {
     "data": {
      "text/plain": [
       "'West Bengal Election Anarchy Is Latest Example Democracy Going Down Drain Last Saturday Election Commission West Bengal India Singh held meeting election observers Kolkata Singh exasperated Total anarchy going state told colleagues He detailed least six incidents anarchy across state When man like Singh uses word anarchy means mayhem disorder It stiff word use It refers fact state administration lost control streets West Bengal governed Trinamul Congress TMC hold local body elections seats across state million people These elections held first week May Across state opposition candidates went file nomination papers thugs associated TMC beat denied basic democratic rightto run elections If violence taken place rural West Bengal urban newspapers might noticed But Saturday TMC sent armed gangs heart fight challengers Trinamul men firearms moved around district headquarters presence police officers said Lahiri local leader Communist Party India Marxist We couldnt file single nomination The violence harsh Two veterans Member Parliament Acharia Member Parliament Ramchandra taken hospital wounds Acharia beaten Dome suffered bomb attack office Senior leaders led processions file nomination papers Neither age prestige saved violence Blood drawn last weekend best known least known Communists The TMC workers stop Communists They attacked Congress Party candidates candidates rightwing BJP It matter BJP rules Delhi The TMC wants dominate West Bengal To destroy opposition best way total power constituency beautiful Sundarbans represented When Communists routed West Bengal elections Sardar nonetheless seat comfortable margin The TMC went survived armed attack Pressure Sardar grew The next year Sardar lost seat Violence opened door BJP found terrorized men willing join ranks TMC This rural district caught spiral violence TMC using common coin money aggression gain authority Democratic institutions eroded quite dramatically This time TMC got act together prevented opposition candidate filing papers May local body elections What ongoing West Bengal part parcel happening elsewhere world It took hundreds years struggle working people win right elect representatives That right seems become expensive Across world India Mexico become apparent ruling elites longer willing extend democratic privileges people Indeed revoked The grammar well developed arrest candidates people disinformation Here Incomplete Manual What happening West Bengal new item unfolding grammar It stop opposition candidates even filing nomination papers In West Bengal Hiroo Let marching Dr Ramchandra Dome file nomination papers Hiroo Let activist comes Dalit oppressed caste community The bomb thrown fragmented splinters getting body Hiroo Let fell ground TMC activists set upon beating mercilessly When Hiroo Let taken Medical College doctors found jawbone broken body weak bomb blast beatings There relative silence violence faced Hiroo Let No memes circulated Nothing said man upon whose body written obituary democracy'"
      ]
     },
     "execution_count": 25,
     "metadata": {},
     "output_type": "execute_result"
    }
   ],
   "source": [
    "train_files[5]"
   ]
  },
  {
   "cell_type": "code",
   "execution_count": 26,
   "metadata": {},
   "outputs": [
    {
     "data": {
      "text/plain": [
       "array([1, 0, 0, 0, 0])"
      ]
     },
     "execution_count": 26,
     "metadata": {},
     "output_type": "execute_result"
    }
   ],
   "source": [
    "ytrain[5]"
   ]
  },
  {
   "cell_type": "code",
   "execution_count": 27,
   "metadata": {},
   "outputs": [],
   "source": [
    "tokenizer = new_tokenizer(train_files)"
   ]
  },
  {
   "cell_type": "code",
   "execution_count": 28,
   "metadata": {},
   "outputs": [
    {
     "name": "stdout",
     "output_type": "stream",
     "text": [
      "91679\n"
     ]
    }
   ],
   "source": [
    "vocab_size = len(tokenizer.word_index) + 1\n",
    "print(vocab_size)"
   ]
  },
  {
   "cell_type": "code",
   "execution_count": 29,
   "metadata": {},
   "outputs": [
    {
     "name": "stdout",
     "output_type": "stream",
     "text": [
      "8346\n"
     ]
    }
   ],
   "source": [
    "max_length = max([len(s.split()) for s in train_files])\n",
    "print(max_length)"
   ]
  },
  {
   "cell_type": "code",
   "execution_count": 30,
   "metadata": {},
   "outputs": [],
   "source": [
    "# encode\n",
    "Xtrain = encode_and_pad(tokenizer, max_length, train_files)"
   ]
  },
  {
   "cell_type": "code",
   "execution_count": 31,
   "metadata": {},
   "outputs": [
    {
     "data": {
      "text/plain": [
       "array([ 1690, 58380,   211, ...,     0,     0,     0])"
      ]
     },
     "execution_count": 31,
     "metadata": {},
     "output_type": "execute_result"
    }
   ],
   "source": [
    "Xtrain[200]"
   ]
  },
  {
   "cell_type": "code",
   "execution_count": 32,
   "metadata": {},
   "outputs": [],
   "source": [
    "val_files, yval = clean_dataset(vocab, 'data/val/left', 'data/val/leanleft', \n",
    "                                    'data/val/centre', 'data/val/leanright', 'data/val/right')"
   ]
  },
  {
   "cell_type": "code",
   "execution_count": 33,
   "metadata": {},
   "outputs": [],
   "source": [
    "tokenizer_val = new_tokenizer(val_files)"
   ]
  },
  {
   "cell_type": "code",
   "execution_count": 34,
   "metadata": {},
   "outputs": [],
   "source": [
    "Xval = encode_and_pad(tokenizer_val, max_length, val_files)"
   ]
  },
  {
   "cell_type": "code",
   "execution_count": 35,
   "metadata": {},
   "outputs": [],
   "source": [
    "# import libraries\n",
    "from keras.utils.vis_utils import plot_model\n",
    "from keras.models import Sequential, Model\n",
    "from keras.layers import Dense, Flatten, Embedding, Input, Dropout\n",
    "from keras.layers.convolutional import Conv1D, MaxPooling1D"
   ]
  },
  {
   "cell_type": "markdown",
   "metadata": {},
   "source": [
    "$\\text{Sequential n-grams + CNN model}$"
   ]
  },
  {
   "cell_type": "code",
   "execution_count": 36,
   "metadata": {},
   "outputs": [
    {
     "data": {
      "text/plain": [
       "\"\\ndef sequential_model(vocab_size, max_length):\\n    model = Sequential()\\n    model.add(Embedding(vocab_size, 100, input_length=max_length))\\n    # 2 grams\\n    model.add(Conv1D(filters=64, kernel_size=4, activation='relu'))\\n    model.add(MaxPooling1D(pool_size=2))\\n    \\n\\n    model.add(Flatten())\\n    \\n    model.add(Dense(50, activation='relu'))\\n    model.add(Dense(5, activation='softmax'))\\n    \\n    model.compile(loss='categorical_crossentropy', optimizer='adam', metrics=['accuracy'])\\n    \\n    model.summary()\\n    return model\\n\""
      ]
     },
     "execution_count": 36,
     "metadata": {},
     "output_type": "execute_result"
    }
   ],
   "source": [
    "\"\"\"\n",
    "def sequential_model(vocab_size, max_length):\n",
    "    model = Sequential()\n",
    "    model.add(Embedding(vocab_size, 100, input_length=max_length))\n",
    "    # 2 grams\n",
    "    model.add(Conv1D(filters=64, kernel_size=4, activation='relu'))\n",
    "    model.add(MaxPooling1D(pool_size=2))\n",
    "    \n",
    "\n",
    "    model.add(Flatten())\n",
    "    \n",
    "    model.add(Dense(50, activation='relu'))\n",
    "    model.add(Dense(5, activation='softmax'))\n",
    "    \n",
    "    model.compile(loss='categorical_crossentropy', optimizer='adam', metrics=['accuracy'])\n",
    "    \n",
    "    model.summary()\n",
    "    return model\n",
    "\"\"\""
   ]
  },
  {
   "cell_type": "code",
   "execution_count": 37,
   "metadata": {
    "scrolled": false
   },
   "outputs": [
    {
     "data": {
      "text/plain": [
       "\"\\nmodel = sequential_model(vocab_size, max_length)\\nH = model.fit(Xtrain, ytrain, epochs=10, batch_size=32, validation_data=(Xval, yval))\\nmodel.save('sequential_10epochwithval.h5')\\n\""
      ]
     },
     "execution_count": 37,
     "metadata": {},
     "output_type": "execute_result"
    }
   ],
   "source": [
    "\"\"\"\n",
    "model = sequential_model(vocab_size, max_length)\n",
    "H = model.fit(Xtrain, ytrain, epochs=10, batch_size=32, validation_data=(Xval, yval))\n",
    "model.save('sequential_10epochwithval.h5')\n",
    "\"\"\""
   ]
  },
  {
   "cell_type": "markdown",
   "metadata": {},
   "source": [
    "Plotting"
   ]
  },
  {
   "cell_type": "code",
   "execution_count": 38,
   "metadata": {},
   "outputs": [
    {
     "data": {
      "text/plain": [
       "'\\nimport matplotlib.pyplot as plt\\n\\n%matplotlib inline\\nplt.style.use(\"ggplot\")\\nplt.figure()\\nplt.plot(np.arange(0, 10), H.history[\"loss\"], label=\"train_loss\")\\nplt.plot(np.arange(0, 10), H.history[\"accuracy\"], label=\"train_acc\")\\nplt.title(\"Training Loss and Accuracy\")\\nplt.xlabel(\"Epoch #\")\\nplt.ylabel(\"Loss/Accuracy\")\\nplt.legend()\\nplt.savefig(\\'sequential_10epochwithval.png\\')\\nplt.show()\\n'"
      ]
     },
     "execution_count": 38,
     "metadata": {},
     "output_type": "execute_result"
    }
   ],
   "source": [
    "\"\"\"\n",
    "import matplotlib.pyplot as plt\n",
    "\n",
    "%matplotlib inline\n",
    "plt.style.use(\"ggplot\")\n",
    "plt.figure()\n",
    "plt.plot(np.arange(0, 10), H.history[\"loss\"], label=\"train_loss\")\n",
    "plt.plot(np.arange(0, 10), H.history[\"accuracy\"], label=\"train_acc\")\n",
    "plt.title(\"Training Loss and Accuracy\")\n",
    "plt.xlabel(\"Epoch #\")\n",
    "plt.ylabel(\"Loss/Accuracy\")\n",
    "plt.legend()\n",
    "plt.savefig('sequential_10epochwithval.png')\n",
    "plt.show()\n",
    "\"\"\""
   ]
  },
  {
   "cell_type": "code",
   "execution_count": 39,
   "metadata": {},
   "outputs": [],
   "source": [
    "# model = load_model('sequential_10epochwithval.h5')"
   ]
  },
  {
   "cell_type": "code",
   "execution_count": 40,
   "metadata": {},
   "outputs": [],
   "source": [
    "#loss, acc = model.evaluate(Xtest, ytest, verbose=0)\n",
    "#print(acc, loss)"
   ]
  },
  {
   "cell_type": "markdown",
   "metadata": {},
   "source": [
    "Model V3"
   ]
  },
  {
   "cell_type": "code",
   "execution_count": 41,
   "metadata": {},
   "outputs": [],
   "source": [
    "def sequential_modelv3(vocab_size, max_length):\n",
    "    model = Sequential()\n",
    "    model.add(Embedding(vocab_size, 128, input_length=max_length))\n",
    "    # 2 grams\n",
    "    model.add(Conv1D(filters=64, kernel_size=16, activation='relu'))\n",
    "    model.add(Conv1D(filters=64, kernel_size=16, activation='relu'))\n",
    "    model.add(Dropout(0.5))\n",
    "\n",
    "    \n",
    "    model.add(MaxPooling1D(pool_size=2))\n",
    "    \n",
    "\n",
    "    model.add(Flatten())\n",
    "    \n",
    "    model.add(Dense(50, activation='relu'))\n",
    "    model.add(Dense(5, activation='softmax'))\n",
    "    \n",
    "    model.compile(loss='categorical_crossentropy', optimizer='adam', metrics=['accuracy'])\n",
    "    \n",
    "    model.summary()\n",
    "    return model"
   ]
  },
  {
   "cell_type": "code",
   "execution_count": 42,
   "metadata": {
    "scrolled": false
   },
   "outputs": [
    {
     "name": "stderr",
     "output_type": "stream",
     "text": [
      "WARNING: Logging before flag parsing goes to stderr.\n",
      "W0809 13:11:56.691138 22776 deprecation_wrapper.py:119] From C:\\Users\\Vedansh\\Anaconda3\\envs\\tensorflow\\lib\\site-packages\\keras\\backend\\tensorflow_backend.py:4070: The name tf.nn.max_pool is deprecated. Please use tf.nn.max_pool2d instead.\n",
      "\n"
     ]
    },
    {
     "name": "stdout",
     "output_type": "stream",
     "text": [
      "Model: \"sequential_1\"\n",
      "_________________________________________________________________\n",
      "Layer (type)                 Output Shape              Param #   \n",
      "=================================================================\n",
      "embedding_1 (Embedding)      (None, 8346, 128)         11734912  \n",
      "_________________________________________________________________\n",
      "conv1d_1 (Conv1D)            (None, 8331, 64)          131136    \n",
      "_________________________________________________________________\n",
      "conv1d_2 (Conv1D)            (None, 8316, 64)          65600     \n",
      "_________________________________________________________________\n",
      "dropout_1 (Dropout)          (None, 8316, 64)          0         \n",
      "_________________________________________________________________\n",
      "max_pooling1d_1 (MaxPooling1 (None, 4158, 64)          0         \n",
      "_________________________________________________________________\n",
      "flatten_1 (Flatten)          (None, 266112)            0         \n",
      "_________________________________________________________________\n",
      "dense_1 (Dense)              (None, 50)                13305650  \n",
      "_________________________________________________________________\n",
      "dense_2 (Dense)              (None, 5)                 255       \n",
      "=================================================================\n",
      "Total params: 25,237,553\n",
      "Trainable params: 25,237,553\n",
      "Non-trainable params: 0\n",
      "_________________________________________________________________\n"
     ]
    },
    {
     "name": "stderr",
     "output_type": "stream",
     "text": [
      "W0809 13:12:01.237561 22776 deprecation_wrapper.py:119] From C:\\Users\\Vedansh\\Anaconda3\\envs\\tensorflow\\lib\\site-packages\\keras\\backend\\tensorflow_backend.py:422: The name tf.global_variables is deprecated. Please use tf.compat.v1.global_variables instead.\n",
      "\n"
     ]
    },
    {
     "name": "stdout",
     "output_type": "stream",
     "text": [
      "Epoch 1/10\n",
      "25480/25480 [==============================] - 221s 9ms/step - loss: 1.5876 - accuracy: 0.2452\n",
      "Epoch 2/10\n",
      "25480/25480 [==============================] - 217s 9ms/step - loss: 1.3811 - accuracy: 0.4211\n",
      "Epoch 3/10\n",
      "25480/25480 [==============================] - 217s 9ms/step - loss: 1.0731 - accuracy: 0.5668\n",
      "Epoch 4/10\n",
      "25480/25480 [==============================] - 215s 8ms/step - loss: 0.7987 - accuracy: 0.6873\n",
      "Epoch 5/10\n",
      "25480/25480 [==============================] - 214s 8ms/step - loss: 0.5654 - accuracy: 0.7880\n",
      "Epoch 6/10\n",
      "25480/25480 [==============================] - 216s 8ms/step - loss: 0.4336 - accuracy: 0.8375\n",
      "Epoch 7/10\n",
      "25480/25480 [==============================] - 217s 9ms/step - loss: 0.3494 - accuracy: 0.8677\n",
      "Epoch 8/10\n",
      "25480/25480 [==============================] - 217s 9ms/step - loss: 0.2951 - accuracy: 0.8868\n",
      "Epoch 9/10\n",
      "25480/25480 [==============================] - 216s 8ms/step - loss: 0.4820 - accuracy: 0.8869\n",
      "Epoch 10/10\n",
      "25480/25480 [==============================] - 217s 9ms/step - loss: 0.2385 - accuracy: 0.9060\n"
     ]
    }
   ],
   "source": [
    "modelv3 = sequential_modelv3(vocab_size, max_length)\n",
    "H_v3 = modelv3.fit(Xtrain, ytrain, epochs=10, batch_size=32)\n",
    "modelv3.save('sequentialv3_25epoch.h5')"
   ]
  },
  {
   "cell_type": "code",
   "execution_count": 44,
   "metadata": {},
   "outputs": [
    {
     "data": {
      "image/png": "[encoded data removed]",
      "text/plain": [
       "<Figure size 432x288 with 1 Axes>"
      ]
     },
     "metadata": {},
     "output_type": "display_data"
    }
   ],
   "source": [
    "import matplotlib.pyplot as plt\n",
    "\n",
    "%matplotlib inline\n",
    "plt.style.use(\"ggplot\")\n",
    "plt.figure()\n",
    "plt.plot(np.arange(0, 10), H_v3.history[\"loss\"], label=\"train_loss\")\n",
    "plt.plot(np.arange(0, 10), H_v3.history[\"accuracy\"], label=\"train_acc\")\n",
    "plt.title(\"Training Loss and Accuracy\")\n",
    "plt.xlabel(\"Epoch #\")\n",
    "plt.ylabel(\"Loss/Accuracy\")\n",
    "plt.legend()\n",
    "plt.savefig('sequentialv3_25epoch.png')\n",
    "plt.show()"
   ]
  },
  {
   "cell_type": "code",
   "execution_count": 5,
   "metadata": {},
   "outputs": [
    {
     "ename": "NameError",
     "evalue": "name 'clean_dataset' is not defined",
     "output_type": "error",
     "traceback": [
      "\u001b[1;31m---------------------------------------------------------------------------\u001b[0m",
      "\u001b[1;31mNameError\u001b[0m                                 Traceback (most recent call last)",
      "\u001b[1;32m<ipython-input-5-b9cb9c90709c>\u001b[0m in \u001b[0;36m<module>\u001b[1;34m\u001b[0m\n\u001b[1;32m----> 1\u001b[1;33m test_files, ytest = clean_dataset(vocab, 'data/test/left', 'data/test/leanleft', \n\u001b[0m\u001b[0;32m      2\u001b[0m                                     'data/test/centre', 'data/test/leanright', 'data/test/right')\n",
      "\u001b[1;31mNameError\u001b[0m: name 'clean_dataset' is not defined"
     ]
    }
   ],
   "source": [
    "test_files, ytest = clean_dataset(vocab, 'data/test/left', 'data/test/leanleft', \n",
    "                                    'data/test/centre', 'data/test/leanright', 'data/test/right')"
   ]
  },
  {
   "cell_type": "code",
   "execution_count": 52,
   "metadata": {},
   "outputs": [],
   "source": [
    "tokenizer_test = new_tokenizer(test_files)"
   ]
  },
  {
   "cell_type": "code",
   "execution_count": 53,
   "metadata": {},
   "outputs": [],
   "source": [
    "Xtest = encode_and_pad(tokenizer_test, max_length, test_files)"
   ]
  },
  {
   "cell_type": "code",
   "execution_count": 54,
   "metadata": {},
   "outputs": [],
   "source": [
    "from keras.models import load_model"
   ]
  },
  {
   "cell_type": "code",
   "execution_count": 1,
   "metadata": {},
   "outputs": [
    {
     "ename": "NameError",
     "evalue": "name 'load_model' is not defined",
     "output_type": "error",
     "traceback": [
      "\u001b[1;31m---------------------------------------------------------------------------\u001b[0m",
      "\u001b[1;31mNameError\u001b[0m                                 Traceback (most recent call last)",
      "\u001b[1;32m<ipython-input-1-62165fc6bc7d>\u001b[0m in \u001b[0;36m<module>\u001b[1;34m\u001b[0m\n\u001b[1;32m----> 1\u001b[1;33m \u001b[0mmodelv3\u001b[0m \u001b[1;33m=\u001b[0m \u001b[0mload_model\u001b[0m\u001b[1;33m(\u001b[0m\u001b[1;34m'sequential_10epochwithval.h5'\u001b[0m\u001b[1;33m)\u001b[0m\u001b[1;33m\u001b[0m\u001b[1;33m\u001b[0m\u001b[0m\n\u001b[0m",
      "\u001b[1;31mNameError\u001b[0m: name 'load_model' is not defined"
     ]
    }
   ],
   "source": [
    "modelv3 = load_model('sequential_10epochwithval.h5')"
   ]
  },
  {
   "cell_type": "code",
   "execution_count": null,
   "metadata": {},
   "outputs": [],
   "source": [
    "loss, acc = modelv3.evaluate(Xtest, ytest, verbose=0)\n",
    "print(acc, loss)"
   ]
  },
  {
   "cell_type": "code",
   "execution_count": null,
   "metadata": {},
   "outputs": [],
   "source": [
    "ypred = model.predict(Xtest, verbose=0)"
   ]
  }
 ],
 "metadata": {
  "kernelspec": {
   "display_name": "Python 3",
   "language": "python",
   "name": "python3"
  },
  "language_info": {
   "codemirror_mode": {
    "name": "ipython",
    "version": 3
   },
   "file_extension": ".py",
   "mimetype": "text/x-python",
   "name": "python",
   "nbconvert_exporter": "python",
   "pygments_lexer": "ipython3",
   "version": "3.7.4"
  }
 },
 "nbformat": 4,
 "nbformat_minor": 2
}
